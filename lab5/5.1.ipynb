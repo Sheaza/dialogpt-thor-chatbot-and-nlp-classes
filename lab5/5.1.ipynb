{
 "cells": [
  {
   "cell_type": "code",
   "execution_count": 1,
   "outputs": [],
   "source": [
    "import pandas as pd\n",
    "\n",
    "data = pd.read_csv(\"PoliMorf-0.6.7.tab\", sep=\"\\t\", usecols=[0, 1], names=[\"words1\", \"words2\"])"
   ],
   "metadata": {
    "collapsed": false,
    "pycharm": {
     "name": "#%%\n"
    }
   }
  },
  {
   "cell_type": "code",
   "execution_count": 2,
   "outputs": [],
   "source": [
    "data = data.reset_index()"
   ],
   "metadata": {
    "collapsed": false,
    "pycharm": {
     "name": "#%%\n"
    }
   }
  },
  {
   "cell_type": "code",
   "execution_count": 3,
   "outputs": [
    {
     "data": {
      "text/plain": "           index words1 words2\n0              0      a      a\n1              1      a      a\n2              2      a      a\n3              3      a      a\n4              4      a      a\n...          ...    ...    ...\n6578137  6578137    ŻZW    ŻZW\n6578138  6578138    ŻZW    ŻZW\n6578139  6578139    ŻZW    ŻZW\n6578140  6578140    ŻZW    ŻZW\n6578141  6578141    ŻZW    ŻZW\n\n[6578142 rows x 3 columns]",
      "text/html": "<div>\n<style scoped>\n    .dataframe tbody tr th:only-of-type {\n        vertical-align: middle;\n    }\n\n    .dataframe tbody tr th {\n        vertical-align: top;\n    }\n\n    .dataframe thead th {\n        text-align: right;\n    }\n</style>\n<table border=\"1\" class=\"dataframe\">\n  <thead>\n    <tr style=\"text-align: right;\">\n      <th></th>\n      <th>index</th>\n      <th>words1</th>\n      <th>words2</th>\n    </tr>\n  </thead>\n  <tbody>\n    <tr>\n      <th>0</th>\n      <td>0</td>\n      <td>a</td>\n      <td>a</td>\n    </tr>\n    <tr>\n      <th>1</th>\n      <td>1</td>\n      <td>a</td>\n      <td>a</td>\n    </tr>\n    <tr>\n      <th>2</th>\n      <td>2</td>\n      <td>a</td>\n      <td>a</td>\n    </tr>\n    <tr>\n      <th>3</th>\n      <td>3</td>\n      <td>a</td>\n      <td>a</td>\n    </tr>\n    <tr>\n      <th>4</th>\n      <td>4</td>\n      <td>a</td>\n      <td>a</td>\n    </tr>\n    <tr>\n      <th>...</th>\n      <td>...</td>\n      <td>...</td>\n      <td>...</td>\n    </tr>\n    <tr>\n      <th>6578137</th>\n      <td>6578137</td>\n      <td>ŻZW</td>\n      <td>ŻZW</td>\n    </tr>\n    <tr>\n      <th>6578138</th>\n      <td>6578138</td>\n      <td>ŻZW</td>\n      <td>ŻZW</td>\n    </tr>\n    <tr>\n      <th>6578139</th>\n      <td>6578139</td>\n      <td>ŻZW</td>\n      <td>ŻZW</td>\n    </tr>\n    <tr>\n      <th>6578140</th>\n      <td>6578140</td>\n      <td>ŻZW</td>\n      <td>ŻZW</td>\n    </tr>\n    <tr>\n      <th>6578141</th>\n      <td>6578141</td>\n      <td>ŻZW</td>\n      <td>ŻZW</td>\n    </tr>\n  </tbody>\n</table>\n<p>6578142 rows × 3 columns</p>\n</div>"
     },
     "execution_count": 3,
     "metadata": {},
     "output_type": "execute_result"
    }
   ],
   "source": [
    "data"
   ],
   "metadata": {
    "collapsed": false,
    "pycharm": {
     "name": "#%%\n"
    }
   }
  },
  {
   "cell_type": "code",
   "execution_count": 4,
   "outputs": [],
   "source": [
    "data = pd.wide_to_long(data, stubnames=[\"words\"], i=\"index\", j=\"idk\")"
   ],
   "metadata": {
    "collapsed": false,
    "pycharm": {
     "name": "#%%\n"
    }
   }
  },
  {
   "cell_type": "code",
   "execution_count": 9,
   "outputs": [],
   "source": [
    "words = data.words.tolist()\n",
    "lowercase_words_list = set([x.lower() for x in words])"
   ],
   "metadata": {
    "collapsed": false,
    "pycharm": {
     "name": "#%%\n"
    }
   }
  },
  {
   "cell_type": "code",
   "execution_count": 11,
   "metadata": {
    "collapsed": true,
    "pycharm": {
     "name": "#%%\n"
    }
   },
   "outputs": [],
   "source": [
    "from typing import List\n",
    "\n",
    "\n",
    "def max_match(string: str, words_list) -> List[str]:\n",
    "    tokens = []\n",
    "    i = 0\n",
    "    while i < len(string):\n",
    "        max_word = \"\"\n",
    "        for j in range(i, len(string)):\n",
    "            temp = string[i:j+1]\n",
    "            if temp in words_list and len(temp) > len(max_word):\n",
    "                max_word = temp\n",
    "        i = i+len(max_word)\n",
    "        tokens.append(max_word)\n",
    "    return tokens"
   ]
  },
  {
   "cell_type": "code",
   "execution_count": 13,
   "outputs": [
    {
     "name": "stdout",
     "output_type": "stream",
     "text": [
      "['nie', 'wiem', 'co', 'napisać']\n"
     ]
    }
   ],
   "source": [
    "print(max_match(\"niewiemconapisać\", lowercase_words_list))"
   ],
   "metadata": {
    "collapsed": false,
    "pycharm": {
     "name": "#%%\n"
    }
   }
  },
  {
   "cell_type": "code",
   "execution_count": null,
   "outputs": [],
   "source": [],
   "metadata": {
    "collapsed": false,
    "pycharm": {
     "name": "#%%\n"
    }
   }
  }
 ],
 "metadata": {
  "kernelspec": {
   "display_name": "Python 3",
   "language": "python",
   "name": "python3"
  },
  "language_info": {
   "codemirror_mode": {
    "name": "ipython",
    "version": 2
   },
   "file_extension": ".py",
   "mimetype": "text/x-python",
   "name": "python",
   "nbconvert_exporter": "python",
   "pygments_lexer": "ipython2",
   "version": "2.7.6"
  }
 },
 "nbformat": 4,
 "nbformat_minor": 0
}