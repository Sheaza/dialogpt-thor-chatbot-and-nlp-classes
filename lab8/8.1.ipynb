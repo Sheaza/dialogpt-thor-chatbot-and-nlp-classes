{
 "cells": [
  {
   "cell_type": "code",
   "execution_count": 1,
   "metadata": {
    "collapsed": true,
    "pycharm": {
     "name": "#%%\n"
    }
   },
   "outputs": [],
   "source": [
    "import spacy"
   ]
  },
  {
   "cell_type": "code",
   "execution_count": 4,
   "outputs": [],
   "source": [
    "def tokenize(string: str):\n",
    "    nlp = spacy.load(\"en_core_web_md\")\n",
    "    doc = nlp(string)\n",
    "    tokens = []\n",
    "    pos = []\n",
    "    for token in doc:\n",
    "        tokens.append(token.text)\n",
    "        pos.append(token.pos_)\n",
    "    token = doc[0]\n",
    "    if token.pos_ == \"VERB\" and str(token.morph) == \"VerbForm=Inf\":\n",
    "        action_str = f\"action: {token}, object: {doc[1:]}\"\n",
    "        print(\"Tokens:\")\n",
    "        print(tokens)\n",
    "        print(\"Parts of speach:\")\n",
    "        print(pos)\n",
    "        print(\"Sentence is in imperative:\")\n",
    "        print(action_str)\n",
    "    else:\n",
    "        print(\"Tokens:\")\n",
    "        print(tokens)\n",
    "        print(\"Entities:\")\n",
    "        print(pos)"
   ],
   "metadata": {
    "collapsed": false,
    "pycharm": {
     "name": "#%%\n"
    }
   }
  },
  {
   "cell_type": "code",
   "execution_count": 6,
   "outputs": [
    {
     "name": "stdout",
     "output_type": "stream",
     "text": [
      "Tokens:\n",
      "['Turn', 'down', 'the', 'music']\n",
      "Parts of speach:\n",
      "['VERB', 'ADP', 'DET', 'NOUN']\n",
      "Sentence is in imperative:\n",
      "action: Turn, object: down the music\n"
     ]
    }
   ],
   "source": [
    "tokenize(\"Turn down the music\")"
   ],
   "metadata": {
    "collapsed": false,
    "pycharm": {
     "name": "#%%\n"
    }
   }
  },
  {
   "cell_type": "code",
   "execution_count": null,
   "outputs": [],
   "source": [],
   "metadata": {
    "collapsed": false,
    "pycharm": {
     "name": "#%%\n"
    }
   }
  }
 ],
 "metadata": {
  "kernelspec": {
   "display_name": "Python 3",
   "language": "python",
   "name": "python3"
  },
  "language_info": {
   "codemirror_mode": {
    "name": "ipython",
    "version": 2
   },
   "file_extension": ".py",
   "mimetype": "text/x-python",
   "name": "python",
   "nbconvert_exporter": "python",
   "pygments_lexer": "ipython2",
   "version": "2.7.6"
  }
 },
 "nbformat": 4,
 "nbformat_minor": 0
}