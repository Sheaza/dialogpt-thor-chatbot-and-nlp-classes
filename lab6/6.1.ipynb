{
 "cells": [
  {
   "cell_type": "code",
   "execution_count": 2,
   "metadata": {
    "collapsed": true,
    "pycharm": {
     "name": "#%%\n"
    }
   },
   "outputs": [],
   "source": [
    "import pandas as pd\n",
    "\n",
    "data = pd.read_csv(\"../lab5/PoliMorf-0.6.7.tab\", sep=\"\\t\")"
   ]
  },
  {
   "cell_type": "code",
   "execution_count": 14,
   "outputs": [
    {
     "data": {
      "text/plain": "                    a        a.1  \\\n4000      abrogowanie  abrogować   \n4001   nieabrogowania  abrogować   \n4002     abrogowaniem  abrogować   \n4003  nieabrogowaniem  abrogować   \n4004   nieabrogowaniu  abrogować   \n4005  nieabrogowanego  abrogować   \n4006     abrogowanych  abrogować   \n4007      abrogowanym  abrogować   \n4008     abrogowanych  abrogować   \n4009  nieabrogowanych  abrogować   \n4010     abrogowanemu  abrogować   \n4011       abrogowane  abrogować   \n4012       abrogowaną  abrogować   \n4013       abrogowani  abrogować   \n4014     abrogowanego  abrogować   \n4015       abrogowany  abrogować   \n4016    nieabrogowany  abrogować   \n4017  nieabrogowanymi  abrogować   \n4018      abrogowanym  abrogować   \n4019    nieabrogowany  abrogować   \n\n                                                 interj  pospolita  \n4000                  ger:sg:nom.acc:n2:imperf.perf:aff  pospolita  \n4001                      ger:sg:gen:n2:imperf.perf:neg  pospolita  \n4002                     ger:sg:inst:n2:imperf.perf:aff  pospolita  \n4003                     ger:sg:inst:n2:imperf.perf:neg  pospolita  \n4004                  ger:sg:dat.loc:n2:imperf.perf:neg  pospolita  \n4005         ppas:sg:gen:m1.m2.m3.n1.n2:imperf.perf:neg  pospolita  \n4006                  ppas:pl:acc:m1.p1:imperf.perf:aff  pospolita  \n4007  ppas:pl:dat:m1.m2.m3.f.n1.n2.p1.p2.p3:imperf.p...  pospolita  \n4008  ppas:pl:gen.loc:m1.m2.m3.f.n1.n2.p1.p2.p3:impe...  pospolita  \n4009  ppas:pl:gen.loc:m1.m2.m3.f.n1.n2.p1.p2.p3:impe...  pospolita  \n4010         ppas:sg:dat:m1.m2.m3.n1.n2:imperf.perf:aff  pospolita  \n4011  ppas:pl:nom.acc.voc:m2.m3.f.n1.n2.p2.p3:imperf...  pospolita  \n4012                 ppas:sg:acc.inst:f:imperf.perf:aff  pospolita  \n4013              ppas:pl:nom.voc:m1.p1:imperf.perf:aff  pospolita  \n4014         ppas:sg:gen:m1.m2.m3.n1.n2:imperf.perf:aff  pospolita  \n4015                     ppas:sg:acc:m3:imperf.perf:aff  pospolita  \n4016           ppas:sg:nom.voc:m1.m2.m3:imperf.perf:neg  pospolita  \n4017  ppas:pl:inst:m1.m2.m3.f.n1.n2.p1.p2.p3:imperf....  pospolita  \n4018    ppas:sg:inst.loc:m1.m2.m3.n1.n2:imperf.perf:aff  pospolita  \n4019                     ppas:sg:acc:m3:imperf.perf:neg  pospolita  ",
      "text/html": "<div>\n<style scoped>\n    .dataframe tbody tr th:only-of-type {\n        vertical-align: middle;\n    }\n\n    .dataframe tbody tr th {\n        vertical-align: top;\n    }\n\n    .dataframe thead th {\n        text-align: right;\n    }\n</style>\n<table border=\"1\" class=\"dataframe\">\n  <thead>\n    <tr style=\"text-align: right;\">\n      <th></th>\n      <th>a</th>\n      <th>a.1</th>\n      <th>interj</th>\n      <th>pospolita</th>\n    </tr>\n  </thead>\n  <tbody>\n    <tr>\n      <th>4000</th>\n      <td>abrogowanie</td>\n      <td>abrogować</td>\n      <td>ger:sg:nom.acc:n2:imperf.perf:aff</td>\n      <td>pospolita</td>\n    </tr>\n    <tr>\n      <th>4001</th>\n      <td>nieabrogowania</td>\n      <td>abrogować</td>\n      <td>ger:sg:gen:n2:imperf.perf:neg</td>\n      <td>pospolita</td>\n    </tr>\n    <tr>\n      <th>4002</th>\n      <td>abrogowaniem</td>\n      <td>abrogować</td>\n      <td>ger:sg:inst:n2:imperf.perf:aff</td>\n      <td>pospolita</td>\n    </tr>\n    <tr>\n      <th>4003</th>\n      <td>nieabrogowaniem</td>\n      <td>abrogować</td>\n      <td>ger:sg:inst:n2:imperf.perf:neg</td>\n      <td>pospolita</td>\n    </tr>\n    <tr>\n      <th>4004</th>\n      <td>nieabrogowaniu</td>\n      <td>abrogować</td>\n      <td>ger:sg:dat.loc:n2:imperf.perf:neg</td>\n      <td>pospolita</td>\n    </tr>\n    <tr>\n      <th>4005</th>\n      <td>nieabrogowanego</td>\n      <td>abrogować</td>\n      <td>ppas:sg:gen:m1.m2.m3.n1.n2:imperf.perf:neg</td>\n      <td>pospolita</td>\n    </tr>\n    <tr>\n      <th>4006</th>\n      <td>abrogowanych</td>\n      <td>abrogować</td>\n      <td>ppas:pl:acc:m1.p1:imperf.perf:aff</td>\n      <td>pospolita</td>\n    </tr>\n    <tr>\n      <th>4007</th>\n      <td>abrogowanym</td>\n      <td>abrogować</td>\n      <td>ppas:pl:dat:m1.m2.m3.f.n1.n2.p1.p2.p3:imperf.p...</td>\n      <td>pospolita</td>\n    </tr>\n    <tr>\n      <th>4008</th>\n      <td>abrogowanych</td>\n      <td>abrogować</td>\n      <td>ppas:pl:gen.loc:m1.m2.m3.f.n1.n2.p1.p2.p3:impe...</td>\n      <td>pospolita</td>\n    </tr>\n    <tr>\n      <th>4009</th>\n      <td>nieabrogowanych</td>\n      <td>abrogować</td>\n      <td>ppas:pl:gen.loc:m1.m2.m3.f.n1.n2.p1.p2.p3:impe...</td>\n      <td>pospolita</td>\n    </tr>\n    <tr>\n      <th>4010</th>\n      <td>abrogowanemu</td>\n      <td>abrogować</td>\n      <td>ppas:sg:dat:m1.m2.m3.n1.n2:imperf.perf:aff</td>\n      <td>pospolita</td>\n    </tr>\n    <tr>\n      <th>4011</th>\n      <td>abrogowane</td>\n      <td>abrogować</td>\n      <td>ppas:pl:nom.acc.voc:m2.m3.f.n1.n2.p2.p3:imperf...</td>\n      <td>pospolita</td>\n    </tr>\n    <tr>\n      <th>4012</th>\n      <td>abrogowaną</td>\n      <td>abrogować</td>\n      <td>ppas:sg:acc.inst:f:imperf.perf:aff</td>\n      <td>pospolita</td>\n    </tr>\n    <tr>\n      <th>4013</th>\n      <td>abrogowani</td>\n      <td>abrogować</td>\n      <td>ppas:pl:nom.voc:m1.p1:imperf.perf:aff</td>\n      <td>pospolita</td>\n    </tr>\n    <tr>\n      <th>4014</th>\n      <td>abrogowanego</td>\n      <td>abrogować</td>\n      <td>ppas:sg:gen:m1.m2.m3.n1.n2:imperf.perf:aff</td>\n      <td>pospolita</td>\n    </tr>\n    <tr>\n      <th>4015</th>\n      <td>abrogowany</td>\n      <td>abrogować</td>\n      <td>ppas:sg:acc:m3:imperf.perf:aff</td>\n      <td>pospolita</td>\n    </tr>\n    <tr>\n      <th>4016</th>\n      <td>nieabrogowany</td>\n      <td>abrogować</td>\n      <td>ppas:sg:nom.voc:m1.m2.m3:imperf.perf:neg</td>\n      <td>pospolita</td>\n    </tr>\n    <tr>\n      <th>4017</th>\n      <td>nieabrogowanymi</td>\n      <td>abrogować</td>\n      <td>ppas:pl:inst:m1.m2.m3.f.n1.n2.p1.p2.p3:imperf....</td>\n      <td>pospolita</td>\n    </tr>\n    <tr>\n      <th>4018</th>\n      <td>abrogowanym</td>\n      <td>abrogować</td>\n      <td>ppas:sg:inst.loc:m1.m2.m3.n1.n2:imperf.perf:aff</td>\n      <td>pospolita</td>\n    </tr>\n    <tr>\n      <th>4019</th>\n      <td>nieabrogowany</td>\n      <td>abrogować</td>\n      <td>ppas:sg:acc:m3:imperf.perf:neg</td>\n      <td>pospolita</td>\n    </tr>\n  </tbody>\n</table>\n</div>"
     },
     "execution_count": 14,
     "metadata": {},
     "output_type": "execute_result"
    }
   ],
   "source": [
    "data[4000:4020]"
   ],
   "metadata": {
    "collapsed": false,
    "pycharm": {
     "name": "#%%\n"
    }
   }
  },
  {
   "cell_type": "code",
   "execution_count": 13,
   "outputs": [
    {
     "ename": "ValueError",
     "evalue": "Columns must be same length as key",
     "output_type": "error",
     "traceback": [
      "\u001B[1;31m---------------------------------------------------------------------------\u001B[0m",
      "\u001B[1;31mValueError\u001B[0m                                Traceback (most recent call last)",
      "Cell \u001B[1;32mIn [13], line 1\u001B[0m\n\u001B[1;32m----> 1\u001B[0m \u001B[43mdata\u001B[49m\u001B[43m[\u001B[49m\u001B[43m[\u001B[49m\u001B[38;5;124;43m\"\u001B[39;49m\u001B[38;5;124;43mczesc_mowy\u001B[39;49m\u001B[38;5;124;43m\"\u001B[39;49m\u001B[43m,\u001B[49m\u001B[43m \u001B[49m\u001B[38;5;124;43m\"\u001B[39;49m\u001B[38;5;124;43mliczba\u001B[39;49m\u001B[38;5;124;43m\"\u001B[39;49m\u001B[43m,\u001B[49m\u001B[43m \u001B[49m\u001B[38;5;124;43m\"\u001B[39;49m\u001B[38;5;124;43mprzypadek\u001B[39;49m\u001B[38;5;124;43m\"\u001B[39;49m\u001B[43m,\u001B[49m\u001B[43m \u001B[49m\u001B[38;5;124;43m\"\u001B[39;49m\u001B[38;5;124;43mrodzaj\u001B[39;49m\u001B[38;5;124;43m\"\u001B[39;49m\u001B[43m,\u001B[49m\u001B[43m \u001B[49m\u001B[38;5;124;43m\"\u001B[39;49m\u001B[38;5;124;43mczas\u001B[39;49m\u001B[38;5;124;43m\"\u001B[39;49m\u001B[43m]\u001B[49m\u001B[43m]\u001B[49m \u001B[38;5;241m=\u001B[39m data[\u001B[38;5;124m\"\u001B[39m\u001B[38;5;124minterj\u001B[39m\u001B[38;5;124m\"\u001B[39m][\u001B[38;5;241m4000\u001B[39m:\u001B[38;5;241m4020\u001B[39m]\u001B[38;5;241m.\u001B[39mapply(\u001B[38;5;28;01mlambda\u001B[39;00m x: x\u001B[38;5;241m.\u001B[39msplit(sep\u001B[38;5;241m=\u001B[39m\u001B[38;5;124m\"\u001B[39m\u001B[38;5;124m:\u001B[39m\u001B[38;5;124m\"\u001B[39m))\n",
      "File \u001B[1;32mC:\\PycharmProjects\\nlp_lab\\venv\\lib\\site-packages\\pandas\\core\\frame.py:3966\u001B[0m, in \u001B[0;36mDataFrame.__setitem__\u001B[1;34m(self, key, value)\u001B[0m\n\u001B[0;32m   3964\u001B[0m     \u001B[38;5;28mself\u001B[39m\u001B[38;5;241m.\u001B[39m_setitem_frame(key, value)\n\u001B[0;32m   3965\u001B[0m \u001B[38;5;28;01melif\u001B[39;00m \u001B[38;5;28misinstance\u001B[39m(key, (Series, np\u001B[38;5;241m.\u001B[39mndarray, \u001B[38;5;28mlist\u001B[39m, Index)):\n\u001B[1;32m-> 3966\u001B[0m     \u001B[38;5;28;43mself\u001B[39;49m\u001B[38;5;241;43m.\u001B[39;49m\u001B[43m_setitem_array\u001B[49m\u001B[43m(\u001B[49m\u001B[43mkey\u001B[49m\u001B[43m,\u001B[49m\u001B[43m \u001B[49m\u001B[43mvalue\u001B[49m\u001B[43m)\u001B[49m\n\u001B[0;32m   3967\u001B[0m \u001B[38;5;28;01melif\u001B[39;00m \u001B[38;5;28misinstance\u001B[39m(value, DataFrame):\n\u001B[0;32m   3968\u001B[0m     \u001B[38;5;28mself\u001B[39m\u001B[38;5;241m.\u001B[39m_set_item_frame_value(key, value)\n",
      "File \u001B[1;32mC:\\PycharmProjects\\nlp_lab\\venv\\lib\\site-packages\\pandas\\core\\frame.py:4025\u001B[0m, in \u001B[0;36mDataFrame._setitem_array\u001B[1;34m(self, key, value)\u001B[0m\n\u001B[0;32m   4022\u001B[0m     \u001B[38;5;28;01mreturn\u001B[39;00m \u001B[38;5;28mself\u001B[39m\u001B[38;5;241m.\u001B[39m_setitem_array(key, value)\n\u001B[0;32m   4024\u001B[0m \u001B[38;5;28;01melse\u001B[39;00m:\n\u001B[1;32m-> 4025\u001B[0m     \u001B[38;5;28;43mself\u001B[39;49m\u001B[38;5;241;43m.\u001B[39;49m\u001B[43m_iset_not_inplace\u001B[49m\u001B[43m(\u001B[49m\u001B[43mkey\u001B[49m\u001B[43m,\u001B[49m\u001B[43m \u001B[49m\u001B[43mvalue\u001B[49m\u001B[43m)\u001B[49m\n",
      "File \u001B[1;32mC:\\PycharmProjects\\nlp_lab\\venv\\lib\\site-packages\\pandas\\core\\frame.py:4044\u001B[0m, in \u001B[0;36mDataFrame._iset_not_inplace\u001B[1;34m(self, key, value)\u001B[0m\n\u001B[0;32m   4042\u001B[0m \u001B[38;5;28;01mif\u001B[39;00m \u001B[38;5;28mself\u001B[39m\u001B[38;5;241m.\u001B[39mcolumns\u001B[38;5;241m.\u001B[39mis_unique:\n\u001B[0;32m   4043\u001B[0m     \u001B[38;5;28;01mif\u001B[39;00m np\u001B[38;5;241m.\u001B[39mshape(value)[\u001B[38;5;241m-\u001B[39m\u001B[38;5;241m1\u001B[39m] \u001B[38;5;241m!=\u001B[39m \u001B[38;5;28mlen\u001B[39m(key):\n\u001B[1;32m-> 4044\u001B[0m         \u001B[38;5;28;01mraise\u001B[39;00m \u001B[38;5;167;01mValueError\u001B[39;00m(\u001B[38;5;124m\"\u001B[39m\u001B[38;5;124mColumns must be same length as key\u001B[39m\u001B[38;5;124m\"\u001B[39m)\n\u001B[0;32m   4046\u001B[0m     \u001B[38;5;28;01mfor\u001B[39;00m i, col \u001B[38;5;129;01min\u001B[39;00m \u001B[38;5;28menumerate\u001B[39m(key):\n\u001B[0;32m   4047\u001B[0m         \u001B[38;5;28mself\u001B[39m[col] \u001B[38;5;241m=\u001B[39m igetitem(value, i)\n",
      "\u001B[1;31mValueError\u001B[0m: Columns must be same length as key"
     ]
    }
   ],
   "source": [
    "data[\"interj\"][4000:4020].apply(lambda x: x.split(sep=\":\"))"
   ],
   "metadata": {
    "collapsed": false,
    "pycharm": {
     "name": "#%%\n"
    }
   }
  },
  {
   "cell_type": "code",
   "execution_count": 27,
   "outputs": [],
   "source": [
    "lemats = dict(zip(data[\"a.1\"], data[[\"interj\", \"a\"]].values.tolist()))"
   ],
   "metadata": {
    "collapsed": false,
    "pycharm": {
     "name": "#%%\n"
    }
   }
  },
  {
   "cell_type": "code",
   "execution_count": 29,
   "outputs": [
    {
     "data": {
      "text/plain": "['ger:sg:dat.loc:n2:perf:neg', 'niepójściu']"
     },
     "execution_count": 29,
     "metadata": {},
     "output_type": "execute_result"
    }
   ],
   "source": [
    "lemats[\"pójść\"]"
   ],
   "metadata": {
    "collapsed": false,
    "pycharm": {
     "name": "#%%\n"
    }
   }
  },
  {
   "cell_type": "code",
   "execution_count": null,
   "outputs": [],
   "source": [],
   "metadata": {
    "collapsed": false,
    "pycharm": {
     "name": "#%%\n"
    }
   }
  }
 ],
 "metadata": {
  "kernelspec": {
   "display_name": "Python 3",
   "language": "python",
   "name": "python3"
  },
  "language_info": {
   "codemirror_mode": {
    "name": "ipython",
    "version": 2
   },
   "file_extension": ".py",
   "mimetype": "text/x-python",
   "name": "python",
   "nbconvert_exporter": "python",
   "pygments_lexer": "ipython2",
   "version": "2.7.6"
  }
 },
 "nbformat": 4,
 "nbformat_minor": 0
}