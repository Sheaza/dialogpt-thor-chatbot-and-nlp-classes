{
 "cells": [
  {
   "cell_type": "markdown",
   "source": [
    "# Import libraries"
   ],
   "metadata": {
    "collapsed": false,
    "pycharm": {
     "name": "#%% md\n"
    }
   }
  },
  {
   "cell_type": "code",
   "execution_count": 156,
   "metadata": {
    "collapsed": true,
    "pycharm": {
     "name": "#%%\n"
    }
   },
   "outputs": [],
   "source": [
    "import keras.metrics\n",
    "import pandas as pd\n",
    "import numpy as np\n",
    "import seaborn as sns\n",
    "import matplotlib.pyplot as plt\n",
    "from sklearn.metrics import accuracy_score, precision_score, recall_score, f1_score, confusion_matrix\n",
    "from sklearn.model_selection import train_test_split\n",
    "from sklearn.feature_extraction.text import CountVectorizer\n",
    "from sklearn.model_selection import GridSearchCV\n",
    "from sklearn.naive_bayes import MultinomialNB\n",
    "from nltk.tokenize import word_tokenize\n",
    "from nltk.corpus import stopwords\n",
    "\n",
    "# nltk.download('stopwords')\n",
    "# nltk.download('punkt')"
   ]
  },
  {
   "cell_type": "markdown",
   "source": [
    "# Load data"
   ],
   "metadata": {
    "collapsed": false,
    "pycharm": {
     "name": "#%% md\n"
    }
   }
  },
  {
   "cell_type": "code",
   "execution_count": 157,
   "outputs": [],
   "source": [
    "data = pd.read_csv(\"spam_ham_dataset.csv\")"
   ],
   "metadata": {
    "collapsed": false,
    "pycharm": {
     "name": "#%%\n"
    }
   }
  },
  {
   "cell_type": "code",
   "execution_count": 158,
   "outputs": [
    {
     "data": {
      "text/plain": "   Unnamed: 0 label                                               text  \\\n0         605   ham  Subject: enron methanol ; meter # : 988291\\r\\n...   \n1        2349   ham  Subject: hpl nom for january 9 , 2001\\r\\n( see...   \n2        3624   ham  Subject: neon retreat\\r\\nho ho ho , we ' re ar...   \n3        4685  spam  Subject: photoshop , windows , office . cheap ...   \n4        2030   ham  Subject: re : indian springs\\r\\nthis deal is t...   \n\n   label_num  \n0          0  \n1          0  \n2          0  \n3          1  \n4          0  ",
      "text/html": "<div>\n<style scoped>\n    .dataframe tbody tr th:only-of-type {\n        vertical-align: middle;\n    }\n\n    .dataframe tbody tr th {\n        vertical-align: top;\n    }\n\n    .dataframe thead th {\n        text-align: right;\n    }\n</style>\n<table border=\"1\" class=\"dataframe\">\n  <thead>\n    <tr style=\"text-align: right;\">\n      <th></th>\n      <th>Unnamed: 0</th>\n      <th>label</th>\n      <th>text</th>\n      <th>label_num</th>\n    </tr>\n  </thead>\n  <tbody>\n    <tr>\n      <th>0</th>\n      <td>605</td>\n      <td>ham</td>\n      <td>Subject: enron methanol ; meter # : 988291\\r\\n...</td>\n      <td>0</td>\n    </tr>\n    <tr>\n      <th>1</th>\n      <td>2349</td>\n      <td>ham</td>\n      <td>Subject: hpl nom for january 9 , 2001\\r\\n( see...</td>\n      <td>0</td>\n    </tr>\n    <tr>\n      <th>2</th>\n      <td>3624</td>\n      <td>ham</td>\n      <td>Subject: neon retreat\\r\\nho ho ho , we ' re ar...</td>\n      <td>0</td>\n    </tr>\n    <tr>\n      <th>3</th>\n      <td>4685</td>\n      <td>spam</td>\n      <td>Subject: photoshop , windows , office . cheap ...</td>\n      <td>1</td>\n    </tr>\n    <tr>\n      <th>4</th>\n      <td>2030</td>\n      <td>ham</td>\n      <td>Subject: re : indian springs\\r\\nthis deal is t...</td>\n      <td>0</td>\n    </tr>\n  </tbody>\n</table>\n</div>"
     },
     "execution_count": 158,
     "metadata": {},
     "output_type": "execute_result"
    }
   ],
   "source": [
    "data.head()"
   ],
   "metadata": {
    "collapsed": false,
    "pycharm": {
     "name": "#%%\n"
    }
   }
  },
  {
   "cell_type": "code",
   "execution_count": 159,
   "outputs": [],
   "source": [
    "data = data.drop([\"Unnamed: 0\"], axis=1)"
   ],
   "metadata": {
    "collapsed": false,
    "pycharm": {
     "name": "#%%\n"
    }
   }
  },
  {
   "cell_type": "markdown",
   "source": [
    "This dataset has 5171 entries"
   ],
   "metadata": {
    "collapsed": false,
    "pycharm": {
     "name": "#%% md\n"
    }
   }
  },
  {
   "cell_type": "code",
   "execution_count": 160,
   "outputs": [
    {
     "name": "stdout",
     "output_type": "stream",
     "text": [
      "<class 'pandas.core.frame.DataFrame'>\n",
      "RangeIndex: 5171 entries, 0 to 5170\n",
      "Data columns (total 3 columns):\n",
      " #   Column     Non-Null Count  Dtype \n",
      "---  ------     --------------  ----- \n",
      " 0   label      5171 non-null   object\n",
      " 1   text       5171 non-null   object\n",
      " 2   label_num  5171 non-null   int64 \n",
      "dtypes: int64(1), object(2)\n",
      "memory usage: 121.3+ KB\n"
     ]
    }
   ],
   "source": [
    "data.info()"
   ],
   "metadata": {
    "collapsed": false,
    "pycharm": {
     "name": "#%%\n"
    }
   }
  },
  {
   "cell_type": "markdown",
   "source": [
    "There is two times more emails which are not a spam than spam emails"
   ],
   "metadata": {
    "collapsed": false,
    "pycharm": {
     "name": "#%% md\n"
    }
   }
  },
  {
   "cell_type": "code",
   "execution_count": 161,
   "outputs": [
    {
     "data": {
      "text/plain": "<AxesSubplot: xlabel='label_num', ylabel='count'>"
     },
     "execution_count": 161,
     "metadata": {},
     "output_type": "execute_result"
    },
    {
     "data": {
      "text/plain": "<Figure size 640x480 with 1 Axes>",
      "image/png": "[encoded data removed]"
     },
     "metadata": {},
     "output_type": "display_data"
    }
   ],
   "source": [
    "sns.countplot(data, x=\"label_num\")"
   ],
   "metadata": {
    "collapsed": false,
    "pycharm": {
     "name": "#%%\n"
    }
   }
  },
  {
   "cell_type": "markdown",
   "source": [
    "# Simple \"model\" always predict 0"
   ],
   "metadata": {
    "collapsed": false,
    "pycharm": {
     "name": "#%% md\n"
    }
   }
  },
  {
   "cell_type": "markdown",
   "source": [
    "# Split data"
   ],
   "metadata": {
    "collapsed": false,
    "pycharm": {
     "name": "#%% md\n"
    }
   }
  },
  {
   "cell_type": "code",
   "execution_count": 162,
   "outputs": [],
   "source": [
    "X = data.loc[:, \"text\"]\n",
    "y = data.loc[:, \"label_num\"]\n",
    "X_train, X_test, y_train, y_test = train_test_split(X, y, test_size=0.2)"
   ],
   "metadata": {
    "collapsed": false,
    "pycharm": {
     "name": "#%%\n"
    }
   }
  },
  {
   "cell_type": "markdown",
   "source": [
    "# Evaluation"
   ],
   "metadata": {
    "collapsed": false,
    "pycharm": {
     "name": "#%% md\n"
    }
   }
  },
  {
   "cell_type": "code",
   "execution_count": 163,
   "outputs": [
    {
     "name": "stdout",
     "output_type": "stream",
     "text": [
      "Accuracy: 0.714975845410628\n",
      "Precision: 0.0\n",
      "Recall: 0.0\n",
      "F1: 0.0\n"
     ]
    },
    {
     "name": "stderr",
     "output_type": "stream",
     "text": [
      "C:\\PycharmProjects\\nlp_lab\\venv\\lib\\site-packages\\sklearn\\metrics\\_classification.py:1344: UndefinedMetricWarning: Precision is ill-defined and being set to 0.0 due to no predicted samples. Use `zero_division` parameter to control this behavior.\n",
      "  _warn_prf(average, modifier, msg_start, len(result))\n"
     ]
    },
    {
     "data": {
      "text/plain": "<Figure size 640x480 with 2 Axes>",
      "image/png": "[encoded data removed]"
     },
     "metadata": {},
     "output_type": "display_data"
    }
   ],
   "source": [
    "y_predicted = np.full(len(y_test), 0)\n",
    "\n",
    "accuracy = accuracy_score(y_test, y_predicted)\n",
    "precision = precision_score(y_test, y_predicted)\n",
    "recall = recall_score(y_test, y_predicted)\n",
    "f1 = f1_score(y_test, y_predicted)\n",
    "\n",
    "cm = confusion_matrix(y_test, y_predicted)\n",
    "print(f\"Accuracy: {accuracy}\\n\"\n",
    "      f\"Precision: {precision}\\n\"\n",
    "      f\"Recall: {recall}\\n\"\n",
    "      f\"F1: {f1}\")\n",
    "ax = sns.heatmap(cm, annot=True, fmt='g')\n",
    "ax.set_xlabel(\"Predicted\")\n",
    "ax.set_ylabel(\"Actual\")\n",
    "plt.title(\"Confusion Matrix Trivial\")\n",
    "plt.show()"
   ],
   "metadata": {
    "collapsed": false,
    "pycharm": {
     "name": "#%%\n"
    }
   }
  },
  {
   "cell_type": "markdown",
   "source": [
    "# Simple \"model\" always predict 1 evaluation"
   ],
   "metadata": {
    "collapsed": false,
    "pycharm": {
     "name": "#%% md\n"
    }
   }
  },
  {
   "cell_type": "code",
   "execution_count": 164,
   "outputs": [
    {
     "name": "stdout",
     "output_type": "stream",
     "text": [
      "Accuracy: 0.28502415458937197\n",
      "Precision: 0.28502415458937197\n",
      "Recall: 1.0\n",
      "F1: 0.443609022556391\n"
     ]
    },
    {
     "data": {
      "text/plain": "<Figure size 640x480 with 2 Axes>",
      "image/png": "[encoded data removed]"
     },
     "metadata": {},
     "output_type": "display_data"
    }
   ],
   "source": [
    "y_predicted = np.full(len(y_test), 1)\n",
    "\n",
    "accuracy = accuracy_score(y_test, y_predicted)\n",
    "precision = precision_score(y_test, y_predicted)\n",
    "recall = recall_score(y_test, y_predicted)\n",
    "f1 = f1_score(y_test, y_predicted)\n",
    "\n",
    "cm = confusion_matrix(y_test, y_predicted)\n",
    "print(f\"Accuracy: {accuracy}\\n\"\n",
    "      f\"Precision: {precision}\\n\"\n",
    "      f\"Recall: {recall}\\n\"\n",
    "      f\"F1: {f1}\")\n",
    "ax = sns.heatmap(cm, annot=True, fmt='g')\n",
    "ax.set_xlabel(\"Predicted\")\n",
    "ax.set_ylabel(\"Actual\")\n",
    "plt.title(\"Confusion Matrix Trivial\")\n",
    "plt.show()"
   ],
   "metadata": {
    "collapsed": false,
    "pycharm": {
     "name": "#%%\n"
    }
   }
  },
  {
   "cell_type": "markdown",
   "source": [
    "# Naive Bayes model"
   ],
   "metadata": {
    "collapsed": false,
    "pycharm": {
     "name": "#%% md\n"
    }
   }
  },
  {
   "cell_type": "markdown",
   "source": [
    "# Without stopwords"
   ],
   "metadata": {
    "collapsed": false,
    "pycharm": {
     "name": "#%% md\n"
    }
   }
  },
  {
   "cell_type": "markdown",
   "source": [
    "# Split data"
   ],
   "metadata": {
    "collapsed": false,
    "pycharm": {
     "name": "#%% md\n"
    }
   }
  },
  {
   "cell_type": "code",
   "execution_count": 173,
   "outputs": [],
   "source": [
    "X = data.loc[:, \"text\"]\n",
    "y = data.loc[:, \"label_num\"]\n",
    "X_train, X_test, y_train, y_test = train_test_split(X, y, test_size=0.2)"
   ],
   "metadata": {
    "collapsed": false,
    "pycharm": {
     "name": "#%%\n"
    }
   }
  },
  {
   "cell_type": "code",
   "execution_count": 174,
   "outputs": [
    {
     "data": {
      "text/plain": "(4136,)"
     },
     "execution_count": 174,
     "metadata": {},
     "output_type": "execute_result"
    }
   ],
   "source": [
    "X_train.shape"
   ],
   "metadata": {
    "collapsed": false,
    "pycharm": {
     "name": "#%%\n"
    }
   }
  },
  {
   "cell_type": "code",
   "execution_count": 175,
   "outputs": [
    {
     "data": {
      "text/plain": "(1035,)"
     },
     "execution_count": 175,
     "metadata": {},
     "output_type": "execute_result"
    }
   ],
   "source": [
    "X_test.shape"
   ],
   "metadata": {
    "collapsed": false,
    "pycharm": {
     "name": "#%%\n"
    }
   }
  },
  {
   "cell_type": "markdown",
   "source": [
    "# Get best model"
   ],
   "metadata": {
    "collapsed": false,
    "pycharm": {
     "name": "#%% md\n"
    }
   }
  },
  {
   "cell_type": "code",
   "execution_count": 176,
   "outputs": [],
   "source": [
    "vectorizer = CountVectorizer().fit(X_train)\n",
    "X_train_vectorized_NB = vectorizer.transform(X_train)"
   ],
   "metadata": {
    "collapsed": false,
    "pycharm": {
     "name": "#%%\n"
    }
   }
  },
  {
   "cell_type": "code",
   "execution_count": 177,
   "outputs": [],
   "source": [
    "model = MultinomialNB()\n",
    "param={'alpha': [0.00001, 0.0001, 0.001, 0.1, 1, 10, 100,1000]}\n",
    "search = GridSearchCV(model,param,scoring='f1',cv=10,return_train_score=True)"
   ],
   "metadata": {
    "collapsed": false,
    "pycharm": {
     "name": "#%%\n"
    }
   }
  },
  {
   "cell_type": "code",
   "execution_count": 178,
   "outputs": [
    {
     "data": {
      "text/plain": "GridSearchCV(cv=10, estimator=MultinomialNB(),\n             param_grid={'alpha': [1e-05, 0.0001, 0.001, 0.1, 1, 10, 100,\n                                   1000]},\n             return_train_score=True, scoring='f1')",
      "text/html": "<style>#sk-container-id-9 {color: black;background-color: white;}#sk-container-id-9 pre{padding: 0;}#sk-container-id-9 div.sk-toggleable {background-color: white;}#sk-container-id-9 label.sk-toggleable__label {cursor: pointer;display: block;width: 100%;margin-bottom: 0;padding: 0.3em;box-sizing: border-box;text-align: center;}#sk-container-id-9 label.sk-toggleable__label-arrow:before {content: \"▸\";float: left;margin-right: 0.25em;color: #696969;}#sk-container-id-9 label.sk-toggleable__label-arrow:hover:before {color: black;}#sk-container-id-9 div.sk-estimator:hover label.sk-toggleable__label-arrow:before {color: black;}#sk-container-id-9 div.sk-toggleable__content {max-height: 0;max-width: 0;overflow: hidden;text-align: left;background-color: #f0f8ff;}#sk-container-id-9 div.sk-toggleable__content pre {margin: 0.2em;color: black;border-radius: 0.25em;background-color: #f0f8ff;}#sk-container-id-9 input.sk-toggleable__control:checked~div.sk-toggleable__content {max-height: 200px;max-width: 100%;overflow: auto;}#sk-container-id-9 input.sk-toggleable__control:checked~label.sk-toggleable__label-arrow:before {content: \"▾\";}#sk-container-id-9 div.sk-estimator input.sk-toggleable__control:checked~label.sk-toggleable__label {background-color: #d4ebff;}#sk-container-id-9 div.sk-label input.sk-toggleable__control:checked~label.sk-toggleable__label {background-color: #d4ebff;}#sk-container-id-9 input.sk-hidden--visually {border: 0;clip: rect(1px 1px 1px 1px);clip: rect(1px, 1px, 1px, 1px);height: 1px;margin: -1px;overflow: hidden;padding: 0;position: absolute;width: 1px;}#sk-container-id-9 div.sk-estimator {font-family: monospace;background-color: #f0f8ff;border: 1px dotted black;border-radius: 0.25em;box-sizing: border-box;margin-bottom: 0.5em;}#sk-container-id-9 div.sk-estimator:hover {background-color: #d4ebff;}#sk-container-id-9 div.sk-parallel-item::after {content: \"\";width: 100%;border-bottom: 1px solid gray;flex-grow: 1;}#sk-container-id-9 div.sk-label:hover label.sk-toggleable__label {background-color: #d4ebff;}#sk-container-id-9 div.sk-serial::before {content: \"\";position: absolute;border-left: 1px solid gray;box-sizing: border-box;top: 0;bottom: 0;left: 50%;z-index: 0;}#sk-container-id-9 div.sk-serial {display: flex;flex-direction: column;align-items: center;background-color: white;padding-right: 0.2em;padding-left: 0.2em;position: relative;}#sk-container-id-9 div.sk-item {position: relative;z-index: 1;}#sk-container-id-9 div.sk-parallel {display: flex;align-items: stretch;justify-content: center;background-color: white;position: relative;}#sk-container-id-9 div.sk-item::before, #sk-container-id-9 div.sk-parallel-item::before {content: \"\";position: absolute;border-left: 1px solid gray;box-sizing: border-box;top: 0;bottom: 0;left: 50%;z-index: -1;}#sk-container-id-9 div.sk-parallel-item {display: flex;flex-direction: column;z-index: 1;position: relative;background-color: white;}#sk-container-id-9 div.sk-parallel-item:first-child::after {align-self: flex-end;width: 50%;}#sk-container-id-9 div.sk-parallel-item:last-child::after {align-self: flex-start;width: 50%;}#sk-container-id-9 div.sk-parallel-item:only-child::after {width: 0;}#sk-container-id-9 div.sk-dashed-wrapped {border: 1px dashed gray;margin: 0 0.4em 0.5em 0.4em;box-sizing: border-box;padding-bottom: 0.4em;background-color: white;}#sk-container-id-9 div.sk-label label {font-family: monospace;font-weight: bold;display: inline-block;line-height: 1.2em;}#sk-container-id-9 div.sk-label-container {text-align: center;}#sk-container-id-9 div.sk-container {/* jupyter's `normalize.less` sets `[hidden] { display: none; }` but bootstrap.min.css set `[hidden] { display: none !important; }` so we also need the `!important` here to be able to override the default hidden behavior on the sphinx rendered scikit-learn.org. See: https://github.com/scikit-learn/scikit-learn/issues/21755 */display: inline-block !important;position: relative;}#sk-container-id-9 div.sk-text-repr-fallback {display: none;}</style><div id=\"sk-container-id-9\" class=\"sk-top-container\"><div class=\"sk-text-repr-fallback\"><pre>GridSearchCV(cv=10, estimator=MultinomialNB(),\n             param_grid={&#x27;alpha&#x27;: [1e-05, 0.0001, 0.001, 0.1, 1, 10, 100,\n                                   1000]},\n             return_train_score=True, scoring=&#x27;f1&#x27;)</pre><b>In a Jupyter environment, please rerun this cell to show the HTML representation or trust the notebook. <br />On GitHub, the HTML representation is unable to render, please try loading this page with nbviewer.org.</b></div><div class=\"sk-container\" hidden><div class=\"sk-item sk-dashed-wrapped\"><div class=\"sk-label-container\"><div class=\"sk-label sk-toggleable\"><input class=\"sk-toggleable__control sk-hidden--visually\" id=\"sk-estimator-id-15\" type=\"checkbox\" ><label for=\"sk-estimator-id-15\" class=\"sk-toggleable__label sk-toggleable__label-arrow\">GridSearchCV</label><div class=\"sk-toggleable__content\"><pre>GridSearchCV(cv=10, estimator=MultinomialNB(),\n             param_grid={&#x27;alpha&#x27;: [1e-05, 0.0001, 0.001, 0.1, 1, 10, 100,\n                                   1000]},\n             return_train_score=True, scoring=&#x27;f1&#x27;)</pre></div></div></div><div class=\"sk-parallel\"><div class=\"sk-parallel-item\"><div class=\"sk-item\"><div class=\"sk-label-container\"><div class=\"sk-label sk-toggleable\"><input class=\"sk-toggleable__control sk-hidden--visually\" id=\"sk-estimator-id-16\" type=\"checkbox\" ><label for=\"sk-estimator-id-16\" class=\"sk-toggleable__label sk-toggleable__label-arrow\">estimator: MultinomialNB</label><div class=\"sk-toggleable__content\"><pre>MultinomialNB()</pre></div></div></div><div class=\"sk-serial\"><div class=\"sk-item\"><div class=\"sk-estimator sk-toggleable\"><input class=\"sk-toggleable__control sk-hidden--visually\" id=\"sk-estimator-id-17\" type=\"checkbox\" ><label for=\"sk-estimator-id-17\" class=\"sk-toggleable__label sk-toggleable__label-arrow\">MultinomialNB</label><div class=\"sk-toggleable__content\"><pre>MultinomialNB()</pre></div></div></div></div></div></div></div></div></div></div>"
     },
     "execution_count": 178,
     "metadata": {},
     "output_type": "execute_result"
    }
   ],
   "source": [
    "search.fit(X_train_vectorized_NB, y_train)"
   ],
   "metadata": {
    "collapsed": false,
    "pycharm": {
     "name": "#%%\n"
    }
   }
  },
  {
   "cell_type": "code",
   "execution_count": 179,
   "outputs": [
    {
     "data": {
      "text/plain": "{'mean_fit_time': array([0.00420694, 0.00403109, 0.00377598, 0.00870986, 0.00488727,\n        0.00357728, 0.00396965, 0.00378129]),\n 'std_fit_time': array([0.00061373, 0.00056467, 0.00051919, 0.00903485, 0.00071944,\n        0.00043314, 0.00093795, 0.00050136]),\n 'mean_score_time': array([0.00123372, 0.00105052, 0.00112536, 0.00165408, 0.00146065,\n        0.00116038, 0.0010623 , 0.00117664]),\n 'std_score_time': array([0.00039094, 0.00015138, 0.00018475, 0.00075283, 0.00074896,\n        0.00022741, 0.00028898, 0.0002925 ]),\n 'param_alpha': masked_array(data=[1e-05, 0.0001, 0.001, 0.1, 1, 10, 100, 1000],\n              mask=[False, False, False, False, False, False, False, False],\n        fill_value='?',\n             dtype=object),\n 'params': [{'alpha': 1e-05},\n  {'alpha': 0.0001},\n  {'alpha': 0.001},\n  {'alpha': 0.1},\n  {'alpha': 1},\n  {'alpha': 10},\n  {'alpha': 100},\n  {'alpha': 1000}],\n 'split0_test_score': array([0.95473251, 0.95473251, 0.95081967, 0.95473251, 0.94957983,\n        0.76767677, 0.18045113, 0.03252033]),\n 'split1_test_score': array([0.95473251, 0.95081967, 0.95081967, 0.95901639, 0.95473251,\n        0.79207921, 0.18045113, 0.        ]),\n 'split2_test_score': array([0.9790795 , 0.9790795 , 0.9790795 , 0.975     , 0.975     ,\n        0.80788177, 0.25899281, 0.        ]),\n 'split3_test_score': array([0.9623431 , 0.9623431 , 0.9623431 , 0.9623431 , 0.95435685,\n        0.72251309, 0.18045113, 0.        ]),\n 'split4_test_score': array([0.97095436, 0.97520661, 0.97520661, 0.97119342, 0.96694215,\n        0.81372549, 0.23357664, 0.        ]),\n 'split5_test_score': array([0.97520661, 0.97942387, 0.98360656, 0.98360656, 0.97095436,\n        0.8097561 , 0.25714286, 0.        ]),\n 'split6_test_score': array([0.97095436, 0.97520661, 0.97942387, 0.97942387, 0.97095436,\n        0.80788177, 0.23357664, 0.01639344]),\n 'split7_test_score': array([0.95473251, 0.95510204, 0.95510204, 0.95510204, 0.95510204,\n        0.7715736 , 0.18045113, 0.        ]),\n 'split8_test_score': array([0.97119342, 0.97119342, 0.97119342, 0.96326531, 0.95833333,\n        0.7839196 , 0.12403101, 0.        ]),\n 'split9_test_score': array([0.94915254, 0.94915254, 0.94514768, 0.93775934, 0.9539749 ,\n        0.8195122 , 0.19402985, 0.01639344]),\n 'mean_test_score': array([0.96430814, 0.96522599, 0.96527421, 0.96414425, 0.96099303,\n        0.78965196, 0.20231543, 0.00653072]),\n 'std_test_score': array([0.00990632, 0.01146801, 0.0133999 , 0.01294837, 0.0085707 ,\n        0.02810002, 0.0403512 , 0.01080999]),\n 'rank_test_score': array([3, 2, 1, 4, 5, 6, 7, 8]),\n 'split0_train_score': array([0.98703704, 0.98612396, 0.98612396, 0.98248848, 0.97781885,\n        0.83457844, 0.22330888, 0.00913242]),\n 'split1_train_score': array([0.98703704, 0.98703704, 0.98612396, 0.98384864, 0.97825081,\n        0.82009724, 0.21603928, 0.01457195]),\n 'split2_train_score': array([0.98656786, 0.98611111, 0.98565479, 0.9833795 , 0.97779833,\n        0.82200647, 0.20280297, 0.01094891]),\n 'split3_train_score': array([0.98796296, 0.98796296, 0.98704903, 0.98568129, 0.98055556,\n        0.82939914, 0.20870994, 0.01457195]),\n 'split4_train_score': array([0.98609824, 0.98609824, 0.98518519, 0.98290993, 0.97689464,\n        0.82137075, 0.20723684, 0.01276208]),\n 'split5_train_score': array([0.98702502, 0.98611111, 0.98611111, 0.98290993, 0.9759482 ,\n        0.82498654, 0.21328958, 0.01458523]),\n 'split6_train_score': array([0.9865554 , 0.98609824, 0.9856415 , 0.98290993, 0.97639981,\n        0.82939914, 0.21164889, 0.00913242]),\n 'split7_train_score': array([0.98843128, 0.9879741 , 0.9879741 , 0.98614958, 0.97825081,\n        0.82473118, 0.20723684, 0.01276208]),\n 'split8_train_score': array([0.98702502, 0.98702502, 0.98611111, 0.98336414, 0.97779833,\n        0.82769726, 0.22330888, 0.01457195]),\n 'split9_train_score': array([0.98890943, 0.98845266, 0.98845266, 0.98617512, 0.98013857,\n        0.82517483, 0.21164889, 0.01094891]),\n 'mean_train_score': array([0.98726493, 0.98689944, 0.98644274, 0.98398165, 0.97798539,\n        0.8259441 , 0.2125231 , 0.01239879]),\n 'std_train_score': array([0.00084389, 0.00088664, 0.00100099, 0.00137248, 0.00139048,\n        0.00418433, 0.00641916, 0.00211554])}"
     },
     "execution_count": 179,
     "metadata": {},
     "output_type": "execute_result"
    }
   ],
   "source": [
    "search.cv_results_"
   ],
   "metadata": {
    "collapsed": false,
    "pycharm": {
     "name": "#%%\n"
    }
   }
  },
  {
   "cell_type": "code",
   "execution_count": 180,
   "outputs": [
    {
     "data": {
      "text/plain": "MultinomialNB(alpha=0.001)",
      "text/html": "<style>#sk-container-id-10 {color: black;background-color: white;}#sk-container-id-10 pre{padding: 0;}#sk-container-id-10 div.sk-toggleable {background-color: white;}#sk-container-id-10 label.sk-toggleable__label {cursor: pointer;display: block;width: 100%;margin-bottom: 0;padding: 0.3em;box-sizing: border-box;text-align: center;}#sk-container-id-10 label.sk-toggleable__label-arrow:before {content: \"▸\";float: left;margin-right: 0.25em;color: #696969;}#sk-container-id-10 label.sk-toggleable__label-arrow:hover:before {color: black;}#sk-container-id-10 div.sk-estimator:hover label.sk-toggleable__label-arrow:before {color: black;}#sk-container-id-10 div.sk-toggleable__content {max-height: 0;max-width: 0;overflow: hidden;text-align: left;background-color: #f0f8ff;}#sk-container-id-10 div.sk-toggleable__content pre {margin: 0.2em;color: black;border-radius: 0.25em;background-color: #f0f8ff;}#sk-container-id-10 input.sk-toggleable__control:checked~div.sk-toggleable__content {max-height: 200px;max-width: 100%;overflow: auto;}#sk-container-id-10 input.sk-toggleable__control:checked~label.sk-toggleable__label-arrow:before {content: \"▾\";}#sk-container-id-10 div.sk-estimator input.sk-toggleable__control:checked~label.sk-toggleable__label {background-color: #d4ebff;}#sk-container-id-10 div.sk-label input.sk-toggleable__control:checked~label.sk-toggleable__label {background-color: #d4ebff;}#sk-container-id-10 input.sk-hidden--visually {border: 0;clip: rect(1px 1px 1px 1px);clip: rect(1px, 1px, 1px, 1px);height: 1px;margin: -1px;overflow: hidden;padding: 0;position: absolute;width: 1px;}#sk-container-id-10 div.sk-estimator {font-family: monospace;background-color: #f0f8ff;border: 1px dotted black;border-radius: 0.25em;box-sizing: border-box;margin-bottom: 0.5em;}#sk-container-id-10 div.sk-estimator:hover {background-color: #d4ebff;}#sk-container-id-10 div.sk-parallel-item::after {content: \"\";width: 100%;border-bottom: 1px solid gray;flex-grow: 1;}#sk-container-id-10 div.sk-label:hover label.sk-toggleable__label {background-color: #d4ebff;}#sk-container-id-10 div.sk-serial::before {content: \"\";position: absolute;border-left: 1px solid gray;box-sizing: border-box;top: 0;bottom: 0;left: 50%;z-index: 0;}#sk-container-id-10 div.sk-serial {display: flex;flex-direction: column;align-items: center;background-color: white;padding-right: 0.2em;padding-left: 0.2em;position: relative;}#sk-container-id-10 div.sk-item {position: relative;z-index: 1;}#sk-container-id-10 div.sk-parallel {display: flex;align-items: stretch;justify-content: center;background-color: white;position: relative;}#sk-container-id-10 div.sk-item::before, #sk-container-id-10 div.sk-parallel-item::before {content: \"\";position: absolute;border-left: 1px solid gray;box-sizing: border-box;top: 0;bottom: 0;left: 50%;z-index: -1;}#sk-container-id-10 div.sk-parallel-item {display: flex;flex-direction: column;z-index: 1;position: relative;background-color: white;}#sk-container-id-10 div.sk-parallel-item:first-child::after {align-self: flex-end;width: 50%;}#sk-container-id-10 div.sk-parallel-item:last-child::after {align-self: flex-start;width: 50%;}#sk-container-id-10 div.sk-parallel-item:only-child::after {width: 0;}#sk-container-id-10 div.sk-dashed-wrapped {border: 1px dashed gray;margin: 0 0.4em 0.5em 0.4em;box-sizing: border-box;padding-bottom: 0.4em;background-color: white;}#sk-container-id-10 div.sk-label label {font-family: monospace;font-weight: bold;display: inline-block;line-height: 1.2em;}#sk-container-id-10 div.sk-label-container {text-align: center;}#sk-container-id-10 div.sk-container {/* jupyter's `normalize.less` sets `[hidden] { display: none; }` but bootstrap.min.css set `[hidden] { display: none !important; }` so we also need the `!important` here to be able to override the default hidden behavior on the sphinx rendered scikit-learn.org. See: https://github.com/scikit-learn/scikit-learn/issues/21755 */display: inline-block !important;position: relative;}#sk-container-id-10 div.sk-text-repr-fallback {display: none;}</style><div id=\"sk-container-id-10\" class=\"sk-top-container\"><div class=\"sk-text-repr-fallback\"><pre>MultinomialNB(alpha=0.001)</pre><b>In a Jupyter environment, please rerun this cell to show the HTML representation or trust the notebook. <br />On GitHub, the HTML representation is unable to render, please try loading this page with nbviewer.org.</b></div><div class=\"sk-container\" hidden><div class=\"sk-item\"><div class=\"sk-estimator sk-toggleable\"><input class=\"sk-toggleable__control sk-hidden--visually\" id=\"sk-estimator-id-18\" type=\"checkbox\" checked><label for=\"sk-estimator-id-18\" class=\"sk-toggleable__label sk-toggleable__label-arrow\">MultinomialNB</label><div class=\"sk-toggleable__content\"><pre>MultinomialNB(alpha=0.001)</pre></div></div></div></div></div>"
     },
     "execution_count": 180,
     "metadata": {},
     "output_type": "execute_result"
    }
   ],
   "source": [
    "search.best_estimator_"
   ],
   "metadata": {
    "collapsed": false,
    "pycharm": {
     "name": "#%%\n"
    }
   }
  },
  {
   "cell_type": "code",
   "execution_count": 181,
   "outputs": [],
   "source": [
    "model = search.best_estimator_"
   ],
   "metadata": {
    "collapsed": false,
    "pycharm": {
     "name": "#%%\n"
    }
   }
  },
  {
   "cell_type": "markdown",
   "source": [
    "# Evaluation"
   ],
   "metadata": {
    "collapsed": false,
    "pycharm": {
     "name": "#%% md\n"
    }
   }
  },
  {
   "cell_type": "code",
   "execution_count": 182,
   "outputs": [
    {
     "name": "stdout",
     "output_type": "stream",
     "text": [
      "Accuracy: 0.9816425120772947\n",
      "Precision: 0.9686411149825784\n",
      "Recall: 0.9652777777777778\n",
      "F1: 0.9669565217391305\n"
     ]
    },
    {
     "data": {
      "text/plain": "<Figure size 640x480 with 2 Axes>",
      "image/png": "[encoded data removed]"
     },
     "metadata": {},
     "output_type": "display_data"
    }
   ],
   "source": [
    "X_test_vectorized_NB = vectorizer.transform(X_test)\n",
    "y_predicted = model.predict(X_test_vectorized_NB)\n",
    "\n",
    "accuracy = accuracy_score(y_test, y_predicted)\n",
    "precision = precision_score(y_test, y_predicted)\n",
    "recall = recall_score(y_test, y_predicted)\n",
    "f1 = f1_score(y_test, y_predicted)\n",
    "\n",
    "cm = confusion_matrix(y_test, y_predicted)\n",
    "print(f\"Accuracy: {accuracy}\\n\"\n",
    "      f\"Precision: {precision}\\n\"\n",
    "      f\"Recall: {recall}\\n\"\n",
    "      f\"F1: {f1}\")\n",
    "ax = sns.heatmap(cm, annot=True, fmt='g')\n",
    "ax.set_xlabel(\"Predicted\")\n",
    "ax.set_ylabel(\"Actual\")\n",
    "plt.title(\"Confusion Matrix Trivial\")\n",
    "plt.show()"
   ],
   "metadata": {
    "collapsed": false,
    "pycharm": {
     "name": "#%%\n"
    }
   }
  },
  {
   "cell_type": "markdown",
   "source": [
    "# With stopwords"
   ],
   "metadata": {
    "collapsed": false,
    "pycharm": {
     "name": "#%% md\n"
    }
   }
  },
  {
   "cell_type": "code",
   "execution_count": 183,
   "outputs": [],
   "source": [
    "stop_words = set(stopwords.words('english'))\n",
    "\n",
    "data_copy = data.copy()\n",
    "data_copy['text'] = data_copy['text'].apply(lambda x: ' '.join([ word for word in word_tokenize(x)  if not word in stop_words]))"
   ],
   "metadata": {
    "collapsed": false,
    "pycharm": {
     "name": "#%%\n"
    }
   }
  },
  {
   "cell_type": "markdown",
   "source": [
    "# Split data"
   ],
   "metadata": {
    "collapsed": false,
    "pycharm": {
     "name": "#%% md\n"
    }
   }
  },
  {
   "cell_type": "code",
   "execution_count": 184,
   "outputs": [],
   "source": [
    "X = data_copy.loc[:, \"text\"]\n",
    "y = data_copy.loc[:, \"label_num\"]\n",
    "X_train2, X_test2, y_train2, y_test2 = train_test_split(X, y, test_size=0.2)"
   ],
   "metadata": {
    "collapsed": false,
    "pycharm": {
     "name": "#%%\n"
    }
   }
  },
  {
   "cell_type": "markdown",
   "source": [
    "# Get best model"
   ],
   "metadata": {
    "collapsed": false,
    "pycharm": {
     "name": "#%% md\n"
    }
   }
  },
  {
   "cell_type": "code",
   "execution_count": 185,
   "outputs": [],
   "source": [
    "vectorizer2 = CountVectorizer().fit(X_train2)\n",
    "X_train_vectorized_NB2 = vectorizer2.transform(X_train2)"
   ],
   "metadata": {
    "collapsed": false,
    "pycharm": {
     "name": "#%%\n"
    }
   }
  },
  {
   "cell_type": "code",
   "execution_count": 186,
   "outputs": [],
   "source": [
    "model2 = MultinomialNB()\n",
    "param = {'alpha': [0.00001, 0.0001, 0.001, 0.1, 1, 10, 100, 1000]}\n",
    "search2 = GridSearchCV(model2, param, scoring='f1', cv=10, return_train_score=True)\n",
    "search2.fit(X_train_vectorized_NB2, y_train2)\n",
    "model2 = search2.best_estimator_"
   ],
   "metadata": {
    "collapsed": false,
    "pycharm": {
     "name": "#%%\n"
    }
   }
  },
  {
   "cell_type": "code",
   "execution_count": 187,
   "outputs": [
    {
     "data": {
      "text/plain": "MultinomialNB(alpha=0.0001)",
      "text/html": "<style>#sk-container-id-11 {color: black;background-color: white;}#sk-container-id-11 pre{padding: 0;}#sk-container-id-11 div.sk-toggleable {background-color: white;}#sk-container-id-11 label.sk-toggleable__label {cursor: pointer;display: block;width: 100%;margin-bottom: 0;padding: 0.3em;box-sizing: border-box;text-align: center;}#sk-container-id-11 label.sk-toggleable__label-arrow:before {content: \"▸\";float: left;margin-right: 0.25em;color: #696969;}#sk-container-id-11 label.sk-toggleable__label-arrow:hover:before {color: black;}#sk-container-id-11 div.sk-estimator:hover label.sk-toggleable__label-arrow:before {color: black;}#sk-container-id-11 div.sk-toggleable__content {max-height: 0;max-width: 0;overflow: hidden;text-align: left;background-color: #f0f8ff;}#sk-container-id-11 div.sk-toggleable__content pre {margin: 0.2em;color: black;border-radius: 0.25em;background-color: #f0f8ff;}#sk-container-id-11 input.sk-toggleable__control:checked~div.sk-toggleable__content {max-height: 200px;max-width: 100%;overflow: auto;}#sk-container-id-11 input.sk-toggleable__control:checked~label.sk-toggleable__label-arrow:before {content: \"▾\";}#sk-container-id-11 div.sk-estimator input.sk-toggleable__control:checked~label.sk-toggleable__label {background-color: #d4ebff;}#sk-container-id-11 div.sk-label input.sk-toggleable__control:checked~label.sk-toggleable__label {background-color: #d4ebff;}#sk-container-id-11 input.sk-hidden--visually {border: 0;clip: rect(1px 1px 1px 1px);clip: rect(1px, 1px, 1px, 1px);height: 1px;margin: -1px;overflow: hidden;padding: 0;position: absolute;width: 1px;}#sk-container-id-11 div.sk-estimator {font-family: monospace;background-color: #f0f8ff;border: 1px dotted black;border-radius: 0.25em;box-sizing: border-box;margin-bottom: 0.5em;}#sk-container-id-11 div.sk-estimator:hover {background-color: #d4ebff;}#sk-container-id-11 div.sk-parallel-item::after {content: \"\";width: 100%;border-bottom: 1px solid gray;flex-grow: 1;}#sk-container-id-11 div.sk-label:hover label.sk-toggleable__label {background-color: #d4ebff;}#sk-container-id-11 div.sk-serial::before {content: \"\";position: absolute;border-left: 1px solid gray;box-sizing: border-box;top: 0;bottom: 0;left: 50%;z-index: 0;}#sk-container-id-11 div.sk-serial {display: flex;flex-direction: column;align-items: center;background-color: white;padding-right: 0.2em;padding-left: 0.2em;position: relative;}#sk-container-id-11 div.sk-item {position: relative;z-index: 1;}#sk-container-id-11 div.sk-parallel {display: flex;align-items: stretch;justify-content: center;background-color: white;position: relative;}#sk-container-id-11 div.sk-item::before, #sk-container-id-11 div.sk-parallel-item::before {content: \"\";position: absolute;border-left: 1px solid gray;box-sizing: border-box;top: 0;bottom: 0;left: 50%;z-index: -1;}#sk-container-id-11 div.sk-parallel-item {display: flex;flex-direction: column;z-index: 1;position: relative;background-color: white;}#sk-container-id-11 div.sk-parallel-item:first-child::after {align-self: flex-end;width: 50%;}#sk-container-id-11 div.sk-parallel-item:last-child::after {align-self: flex-start;width: 50%;}#sk-container-id-11 div.sk-parallel-item:only-child::after {width: 0;}#sk-container-id-11 div.sk-dashed-wrapped {border: 1px dashed gray;margin: 0 0.4em 0.5em 0.4em;box-sizing: border-box;padding-bottom: 0.4em;background-color: white;}#sk-container-id-11 div.sk-label label {font-family: monospace;font-weight: bold;display: inline-block;line-height: 1.2em;}#sk-container-id-11 div.sk-label-container {text-align: center;}#sk-container-id-11 div.sk-container {/* jupyter's `normalize.less` sets `[hidden] { display: none; }` but bootstrap.min.css set `[hidden] { display: none !important; }` so we also need the `!important` here to be able to override the default hidden behavior on the sphinx rendered scikit-learn.org. See: https://github.com/scikit-learn/scikit-learn/issues/21755 */display: inline-block !important;position: relative;}#sk-container-id-11 div.sk-text-repr-fallback {display: none;}</style><div id=\"sk-container-id-11\" class=\"sk-top-container\"><div class=\"sk-text-repr-fallback\"><pre>MultinomialNB(alpha=0.0001)</pre><b>In a Jupyter environment, please rerun this cell to show the HTML representation or trust the notebook. <br />On GitHub, the HTML representation is unable to render, please try loading this page with nbviewer.org.</b></div><div class=\"sk-container\" hidden><div class=\"sk-item\"><div class=\"sk-estimator sk-toggleable\"><input class=\"sk-toggleable__control sk-hidden--visually\" id=\"sk-estimator-id-19\" type=\"checkbox\" checked><label for=\"sk-estimator-id-19\" class=\"sk-toggleable__label sk-toggleable__label-arrow\">MultinomialNB</label><div class=\"sk-toggleable__content\"><pre>MultinomialNB(alpha=0.0001)</pre></div></div></div></div></div>"
     },
     "execution_count": 187,
     "metadata": {},
     "output_type": "execute_result"
    }
   ],
   "source": [
    "search2.best_estimator_"
   ],
   "metadata": {
    "collapsed": false,
    "pycharm": {
     "name": "#%%\n"
    }
   }
  },
  {
   "cell_type": "code",
   "execution_count": 188,
   "outputs": [
    {
     "data": {
      "text/plain": "{'mean_fit_time': array([0.00344262, 0.0033402 , 0.00329916, 0.00327048, 0.00463793,\n        0.00327995, 0.00297456, 0.00303326]),\n 'std_fit_time': array([0.00054528, 0.00027949, 0.00048132, 0.00031415, 0.00162165,\n        0.00060456, 0.00044186, 0.00031411]),\n 'mean_score_time': array([0.00097878, 0.00095336, 0.00110772, 0.00101333, 0.00173862,\n        0.00122674, 0.00100176, 0.00115411]),\n 'std_score_time': array([3.65047436e-04, 2.69418101e-04, 4.22911758e-04, 1.87521328e-05,\n        5.57885741e-04, 3.12814880e-04, 3.72077383e-04, 2.27903946e-04]),\n 'param_alpha': masked_array(data=[1e-05, 0.0001, 0.001, 0.1, 1, 10, 100, 1000],\n              mask=[False, False, False, False, False, False, False, False],\n        fill_value='?',\n             dtype=object),\n 'params': [{'alpha': 1e-05},\n  {'alpha': 0.0001},\n  {'alpha': 0.001},\n  {'alpha': 0.1},\n  {'alpha': 1},\n  {'alpha': 10},\n  {'alpha': 100},\n  {'alpha': 1000}],\n 'split0_test_score': array([0.94067797, 0.94067797, 0.94067797, 0.94117647, 0.93670886,\n        0.8744186 , 0.49367089, 0.096     ]),\n 'split1_test_score': array([0.96581197, 0.96581197, 0.96581197, 0.94957983, 0.94957983,\n        0.89302326, 0.49367089, 0.03305785]),\n 'split2_test_score': array([0.97021277, 0.97021277, 0.97021277, 0.96610169, 0.96581197,\n        0.89400922, 0.52173913, 0.11111111]),\n 'split3_test_score': array([0.9787234 , 0.9787234 , 0.9787234 , 0.98305085, 0.97435897,\n        0.89908257, 0.52173913, 0.04918033]),\n 'split4_test_score': array([0.94117647, 0.94117647, 0.94560669, 0.94166667, 0.93670886,\n        0.87323944, 0.5398773 , 0.03305785]),\n 'split5_test_score': array([0.9707113 , 0.975     , 0.975     , 0.975     , 0.9623431 ,\n        0.88990826, 0.6       , 0.03305785]),\n 'split6_test_score': array([0.94650206, 0.94650206, 0.94650206, 0.94262295, 0.94650206,\n        0.90990991, 0.52173913, 0.096     ]),\n 'split7_test_score': array([0.96638655, 0.96638655, 0.95833333, 0.95833333, 0.9623431 ,\n        0.92307692, 0.54878049, 0.096     ]),\n 'split8_test_score': array([0.9787234 , 0.9787234 , 0.9787234 , 0.97478992, 0.97478992,\n        0.92237443, 0.525     , 0.06557377]),\n 'split9_test_score': array([0.97520661, 0.97520661, 0.97520661, 0.97520661, 0.98333333,\n        0.9375    , 0.525     , 0.08130081]),\n 'mean_test_score': array([0.96341325, 0.96384212, 0.96347982, 0.96075283, 0.959248  ,\n        0.90165426, 0.5291217 , 0.06943396]),\n 'std_test_score': array([0.01421031, 0.01448614, 0.01392782, 0.01530243, 0.01544085,\n        0.02016937, 0.02869998, 0.02896523]),\n 'rank_test_score': array([3, 1, 2, 4, 5, 6, 7, 8]),\n 'split0_train_score': array([0.98962264, 0.98962264, 0.98868992, 0.98588899, 0.97882353,\n        0.92921236, 0.57466667, 0.08594449]),\n 'split1_train_score': array([0.98867925, 0.98821311, 0.98774741, 0.98496241, 0.97792391,\n        0.93094883, 0.57371581, 0.09955556]),\n 'split2_train_score': array([0.98866856, 0.98866856, 0.98820198, 0.98400753, 0.97455231,\n        0.92330827, 0.56220578, 0.07213706]),\n 'split3_train_score': array([0.98772427, 0.98725814, 0.98679245, 0.98400753, 0.97414198,\n        0.93088016, 0.57845745, 0.09955556]),\n 'split4_train_score': array([0.98867925, 0.98867925, 0.98774741, 0.98542548, 0.97602257,\n        0.92874938, 0.55832771, 0.09107143]),\n 'split5_train_score': array([0.98867925, 0.98867925, 0.98774741, 0.98542548, 0.97455231,\n        0.9286783 , 0.58222812, 0.10628875]),\n 'split6_train_score': array([0.98820198, 0.98820198, 0.98727016, 0.98494826, 0.97742239,\n        0.92338508, 0.58034529, 0.07906559]),\n 'split7_train_score': array([0.98820198, 0.98820198, 0.98773585, 0.9835449 , 0.97650376,\n        0.92453773, 0.58316766, 0.09277431]),\n 'split8_train_score': array([0.98773585, 0.98727016, 0.98727016, 0.98309859, 0.97650376,\n        0.9251497 , 0.57523302, 0.08243728]),\n 'split9_train_score': array([0.9872461 , 0.98677998, 0.98677998, 0.98352941, 0.97648166,\n        0.92392392, 0.54816825, 0.06684734]),\n 'mean_train_score': array([0.98834391, 0.9881575 , 0.98759827, 0.98448386, 0.97629282,\n        0.92687737, 0.57165158, 0.08756774]),\n 'std_train_score': array([0.00063852, 0.00080331, 0.00056357, 0.00091421, 0.00145683,\n        0.00294814, 0.01100353, 0.01202481])}"
     },
     "execution_count": 188,
     "metadata": {},
     "output_type": "execute_result"
    }
   ],
   "source": [
    "search2.cv_results_"
   ],
   "metadata": {
    "collapsed": false,
    "pycharm": {
     "name": "#%%\n"
    }
   }
  },
  {
   "cell_type": "markdown",
   "source": [
    "# Evaluation"
   ],
   "metadata": {
    "collapsed": false,
    "pycharm": {
     "name": "#%% md\n"
    }
   }
  },
  {
   "cell_type": "code",
   "execution_count": 189,
   "outputs": [
    {
     "name": "stdout",
     "output_type": "stream",
     "text": [
      "Accuracy: 0.9806763285024155\n",
      "Precision: 0.970873786407767\n",
      "Recall: 0.9646302250803859\n",
      "F1: 0.9677419354838709\n"
     ]
    },
    {
     "data": {
      "text/plain": "<Figure size 640x480 with 2 Axes>",
      "image/png": "[encoded data removed]"
     },
     "metadata": {},
     "output_type": "display_data"
    }
   ],
   "source": [
    "X_test_vectorized_NB2 = vectorizer2.transform(X_test2)\n",
    "y_predicted = model2.predict(X_test_vectorized_NB2)\n",
    "\n",
    "accuracy = accuracy_score(y_test2, y_predicted)\n",
    "precision = precision_score(y_test2, y_predicted)\n",
    "recall = recall_score(y_test2, y_predicted)\n",
    "f1 = f1_score(y_test2, y_predicted)\n",
    "\n",
    "cm = confusion_matrix(y_test2, y_predicted)\n",
    "print(f\"Accuracy: {accuracy}\\n\"\n",
    "      f\"Precision: {precision}\\n\"\n",
    "      f\"Recall: {recall}\\n\"\n",
    "      f\"F1: {f1}\")\n",
    "ax = sns.heatmap(cm, annot=True, fmt='g')\n",
    "ax.set_xlabel(\"Predicted\")\n",
    "ax.set_ylabel(\"Actual\")\n",
    "plt.title(\"Confusion Matrix Trivial\")\n",
    "plt.show()"
   ],
   "metadata": {
    "collapsed": false,
    "pycharm": {
     "name": "#%%\n"
    }
   }
  },
  {
   "cell_type": "markdown",
   "source": [
    "# BI LSTM"
   ],
   "metadata": {
    "collapsed": false,
    "pycharm": {
     "name": "#%% md\n"
    }
   }
  },
  {
   "cell_type": "code",
   "execution_count": 149,
   "outputs": [],
   "source": [
    "X = data_copy.loc[:, \"text\"]\n",
    "y = data_copy.loc[:, \"label_num\"]\n",
    "X_train2, X_test2, y_train2, y_test2 = train_test_split(X, y, test_size=0.2)"
   ],
   "metadata": {
    "collapsed": false,
    "pycharm": {
     "name": "#%%\n"
    }
   }
  },
  {
   "cell_type": "code",
   "execution_count": 150,
   "outputs": [
    {
     "name": "stdout",
     "output_type": "stream",
     "text": [
      "Vocabulary Size : 10000\n"
     ]
    }
   ],
   "source": [
    "from keras.preprocessing.text import Tokenizer\n",
    "\n",
    "vocab_size = 10000\n",
    "tokenizer = Tokenizer(num_words=vocab_size)\n",
    "tokenizer.fit_on_texts(X_train2)\n",
    "\n",
    "word_index = tokenizer.word_index\n",
    "print(\"Vocabulary Size :\", vocab_size)"
   ],
   "metadata": {
    "collapsed": false,
    "pycharm": {
     "name": "#%%\n"
    }
   }
  },
  {
   "cell_type": "code",
   "execution_count": 151,
   "outputs": [],
   "source": [
    "from tensorflow.keras.utils import pad_sequences\n",
    "MAX_SEQUENCE_LENGTH = 50\n",
    "X_train2 = pad_sequences(tokenizer.texts_to_sequences(X_train2), maxlen = MAX_SEQUENCE_LENGTH)\n",
    "X_test2 = pad_sequences(tokenizer.texts_to_sequences(X_test2), maxlen = MAX_SEQUENCE_LENGTH)\n"
   ],
   "metadata": {
    "collapsed": false,
    "pycharm": {
     "name": "#%%\n"
    }
   }
  },
  {
   "cell_type": "code",
   "execution_count": 152,
   "outputs": [
    {
     "name": "stdout",
     "output_type": "stream",
     "text": [
      "Training X Shape: (4136, 50)\n",
      "Testing X Shape: (1035, 50)\n"
     ]
    }
   ],
   "source": [
    "print(\"Training X Shape:\", X_train2.shape)\n",
    "print(\"Testing X Shape:\", X_test2.shape)"
   ],
   "metadata": {
    "collapsed": false,
    "pycharm": {
     "name": "#%%\n"
    }
   }
  },
  {
   "cell_type": "code",
   "execution_count": 154,
   "outputs": [
    {
     "name": "stdout",
     "output_type": "stream",
     "text": [
      "Epoch 1/30\n",
      "130/130 [==============================] - 11s 46ms/step - loss: 0.2484 - precision_15: 0.8982 - recall_14: 0.7041 - accuracy: 0.8907 - val_loss: 0.0890 - val_precision_15: 0.8954 - val_recall_14: 0.9831 - val_accuracy: 0.9623\n",
      "Epoch 2/30\n",
      "130/130 [==============================] - 5s 37ms/step - loss: 0.0250 - precision_15: 0.9811 - recall_14: 0.9900 - accuracy: 0.9915 - val_loss: 0.0699 - val_precision_15: 0.9721 - val_recall_14: 0.9426 - val_accuracy: 0.9758\n",
      "Epoch 3/30\n",
      "130/130 [==============================] - 5s 36ms/step - loss: 0.0051 - precision_15: 0.9967 - recall_14: 0.9975 - accuracy: 0.9983 - val_loss: 0.0779 - val_precision_15: 0.9729 - val_recall_14: 0.9696 - val_accuracy: 0.9836\n",
      "Epoch 4/30\n",
      "130/130 [==============================] - 5s 37ms/step - loss: 0.0032 - precision_15: 1.0000 - recall_14: 0.9983 - accuracy: 0.9995 - val_loss: 0.0823 - val_precision_15: 0.9701 - val_recall_14: 0.9865 - val_accuracy: 0.9874\n"
     ]
    }
   ],
   "source": [
    "from keras.callbacks import EarlyStopping\n",
    "\n",
    "drop_lstm =0.37\n",
    "\n",
    "import tensorflow as tf\n",
    "\n",
    "model1 = tf.keras.Sequential([\n",
    "    tf.keras.layers.Embedding(vocab_size, 64, input_length=MAX_SEQUENCE_LENGTH),\n",
    "    tf.keras.layers.Bidirectional(tf.keras.layers.LSTM(64, return_sequences=True)),\n",
    "    tf.keras.layers.Bidirectional(tf.keras.layers.LSTM(32)),\n",
    "    tf.keras.layers.Dropout(drop_lstm),\n",
    "    tf.keras.layers.Dense(64, activation='relu'),\n",
    "    tf.keras.layers.Dense(1, activation='sigmoid')\n",
    "])\n",
    "model1.compile(loss = 'binary_crossentropy',\n",
    "               optimizer = 'adam',\n",
    "               metrics = [tf.keras.metrics.Precision(), tf.keras.metrics.Recall(), 'accuracy'])\n",
    "num_epochs = 30\n",
    "early_stop = EarlyStopping(monitor='val_loss', patience=2)\n",
    "history = model1.fit(X_train2,\n",
    "                     y_train2,\n",
    "                     epochs=num_epochs,\n",
    "                     validation_data=(X_test2, y_test2),\n",
    "                     callbacks =[early_stop],\n",
    "                     verbose=1)"
   ],
   "metadata": {
    "collapsed": false,
    "pycharm": {
     "name": "#%%\n"
    }
   }
  },
  {
   "cell_type": "code",
   "execution_count": 155,
   "outputs": [
    {
     "name": "stdout",
     "output_type": "stream",
     "text": [
      "33/33 [==============================] - 1s 11ms/step\n",
      "Accuracy: 0.9874396135265701\n",
      "Precision: 0.9700996677740864\n",
      "Recall: 0.9864864864864865\n",
      "F1: 0.9782244556113903\n"
     ]
    },
    {
     "data": {
      "text/plain": "<Figure size 640x480 with 2 Axes>",
      "image/png": "[encoded data removed]"
     },
     "metadata": {},
     "output_type": "display_data"
    }
   ],
   "source": [
    "y_predicted = model1.predict(X_test2) > 0.5\n",
    "\n",
    "accuracy = accuracy_score(y_test2, y_predicted)\n",
    "precision = precision_score(y_test2, y_predicted)\n",
    "recall = recall_score(y_test2, y_predicted)\n",
    "f1 = f1_score(y_test2, y_predicted)\n",
    "\n",
    "cm = confusion_matrix(y_test2, y_predicted)\n",
    "print(f\"Accuracy: {accuracy}\\n\"\n",
    "      f\"Precision: {precision}\\n\"\n",
    "      f\"Recall: {recall}\\n\"\n",
    "      f\"F1: {f1}\")\n",
    "ax = sns.heatmap(cm, annot=True, fmt='g')\n",
    "ax.set_xlabel(\"Predicted\")\n",
    "ax.set_ylabel(\"Actual\")\n",
    "plt.title(\"Confusion Matrix Trivial\")\n",
    "plt.show()"
   ],
   "metadata": {
    "collapsed": false,
    "pycharm": {
     "name": "#%%\n"
    }
   }
  }
 ],
 "metadata": {
  "kernelspec": {
   "display_name": "Python 3",
   "language": "python",
   "name": "python3"
  },
  "language_info": {
   "codemirror_mode": {
    "name": "ipython",
    "version": 2
   },
   "file_extension": ".py",
   "mimetype": "text/x-python",
   "name": "python",
   "nbconvert_exporter": "python",
   "pygments_lexer": "ipython2",
   "version": "2.7.6"
  }
 },
 "nbformat": 4,
 "nbformat_minor": 0
}